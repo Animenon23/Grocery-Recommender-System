{
  "nbformat": 4,
  "nbformat_minor": 0,
  "metadata": {
    "colab": {
      "provenance": []
    },
    "kernelspec": {
      "name": "python3",
      "display_name": "Python 3"
    },
    "language_info": {
      "name": "python"
    }
  },
  "cells": [
    {
      "cell_type": "code",
      "execution_count": 1,
      "metadata": {
        "id": "fDJKM1PZCcCQ"
      },
      "outputs": [],
      "source": [
        "#Importing necessary libraries\n",
        "import pandas as pd\n",
        "import numpy as np\n",
        "from mlxtend.frequent_patterns import apriori\n",
        "from mlxtend.frequent_patterns import association_rules"
      ]
    },
    {
      "cell_type": "code",
      "source": [
        "from google.colab import drive\n",
        "drive.mount('/content/drive', force_remount=True)"
      ],
      "metadata": {
        "colab": {
          "base_uri": "https://localhost:8080/"
        },
        "id": "kcV_d8dIDTID",
        "outputId": "4fa7c586-dc23-441e-dbab-0fa2fb18a378"
      },
      "execution_count": 2,
      "outputs": [
        {
          "output_type": "stream",
          "name": "stdout",
          "text": [
            "Mounted at /content/drive\n"
          ]
        }
      ]
    },
    {
      "cell_type": "code",
      "source": [
        "#Load datasets\n",
        "orders = pd.read_csv('orders.csv')\n",
        "order_products_prior = pd.read_csv('order_products__prior.csv')\n",
        "products = pd.read_csv('products.csv')"
      ],
      "metadata": {
        "id": "ieHlb0rGHWTM"
      },
      "execution_count": 5,
      "outputs": []
    },
    {
      "cell_type": "code",
      "source": [
        "# View the first few records of each dataframe\n",
        "print(orders.head())\n",
        "print(order_products_prior.head())\n",
        "print(products.head())\n",
        "\n",
        "# Check the shape of each dataframe\n",
        "print(orders.shape)\n",
        "print(order_products_prior.shape)\n",
        "print(products.shape)\n",
        "\n",
        "# Display column names\n",
        "print(orders.columns)\n",
        "print(order_products_prior.columns)\n",
        "print(products.columns)\n"
      ],
      "metadata": {
        "colab": {
          "base_uri": "https://localhost:8080/"
        },
        "id": "gJ6BlyUIKZl1",
        "outputId": "4dd6ab93-b617-45df-cc25-21caee39b0d7"
      },
      "execution_count": 7,
      "outputs": [
        {
          "output_type": "stream",
          "name": "stdout",
          "text": [
            "   order_id  user_id eval_set  order_number  order_dow  order_hour_of_day  \\\n",
            "0   2539329        1    prior             1          2                  8   \n",
            "1   2398795        1    prior             2          3                  7   \n",
            "2    473747        1    prior             3          3                 12   \n",
            "3   2254736        1    prior             4          4                  7   \n",
            "4    431534        1    prior             5          4                 15   \n",
            "\n",
            "   days_since_prior_order  \n",
            "0                     NaN  \n",
            "1                    15.0  \n",
            "2                    21.0  \n",
            "3                    29.0  \n",
            "4                    28.0  \n",
            "   order_id  product_id  add_to_cart_order  reordered\n",
            "0         2       33120                1.0        1.0\n",
            "1         2       28985                2.0        1.0\n",
            "2         2        9327                3.0        0.0\n",
            "3         2       45918                4.0        1.0\n",
            "4         2       30035                5.0        0.0\n",
            "   product_id                                       product_name  aisle_id  \\\n",
            "0           1                         Chocolate Sandwich Cookies        61   \n",
            "1           2                                   All-Seasons Salt       104   \n",
            "2           3               Robust Golden Unsweetened Oolong Tea        94   \n",
            "3           4  Smart Ones Classic Favorites Mini Rigatoni Wit...        38   \n",
            "4           5                          Green Chile Anytime Sauce         5   \n",
            "\n",
            "   department_id  \n",
            "0             19  \n",
            "1             13  \n",
            "2              7  \n",
            "3              1  \n",
            "4             13  \n",
            "(3421083, 7)\n",
            "(12609714, 4)\n",
            "(49688, 4)\n",
            "Index(['order_id', 'user_id', 'eval_set', 'order_number', 'order_dow',\n",
            "       'order_hour_of_day', 'days_since_prior_order'],\n",
            "      dtype='object')\n",
            "Index(['order_id', 'product_id', 'add_to_cart_order', 'reordered'], dtype='object')\n",
            "Index(['product_id', 'product_name', 'aisle_id', 'department_id'], dtype='object')\n"
          ]
        }
      ]
    },
    {
      "cell_type": "code",
      "source": [
        "##Apriori Algorithm\n",
        "\n",
        "from mlxtend.frequent_patterns import apriori\n",
        "from mlxtend.frequent_patterns import association_rules\n",
        "\n",
        "# Randomly sample 10000 orders\n",
        "data_subset = orders.sample(n=10000, random_state=42)\n",
        "\n",
        "# Merge order_products_prior with products\n",
        "merged_data = pd.merge(order_products_prior, products, on='product_id')\n",
        "\n",
        "# Merge sampled orders data with merged_data to get complete information\n",
        "complete_data = pd.merge(data_subset, merged_data, on='order_id')\n",
        "\n",
        "# Discard unnecessary columns and keep order_id and product_name\n",
        "data = complete_data[['order_id', 'product_name']]\n",
        "\n",
        "# Create a one-hot encoded dataframe\n",
        "data_one_hot = data.groupby(['order_id', 'product_name']).size().unstack().fillna(0).astype(bool).astype(int)\n",
        "\n",
        "# Generate frequent itemsets using Apriori algorithm\n",
        "frequent_itemsets = apriori(data_one_hot, min_support=0.01, use_colnames=True)\n",
        "\n",
        "# Generate association rules\n",
        "rules = association_rules(frequent_itemsets, metric=\"lift\", min_threshold=1)\n",
        "\n",
        "# Rename the columns\n",
        "rules = rules.rename(columns={\"antecedents\": \"Item 1\", \"consequents\": \"Item 2\"})\n",
        "\n",
        "# Select the necessary columns\n",
        "rules = rules[[\"Item 1\", \"Item 2\", \"confidence\", \"support\", \"lift\"]]\n",
        "\n",
        "# Sort the dataframe by 'lift' and 'Item 1'\n",
        "rules = rules.sort_values(by=[\"lift\", \"Item 1\"], ascending=False)\n",
        "\n",
        "# Display the final dataframe\n",
        "print(rules)\n"
      ],
      "metadata": {
        "colab": {
          "base_uri": "https://localhost:8080/"
        },
        "id": "BjVYC21IJA4Q",
        "outputId": "fcc95bc4-fd81-44f6-d69c-f27f8efdf499"
      },
      "execution_count": 15,
      "outputs": [
        {
          "output_type": "stream",
          "name": "stdout",
          "text": [
            "                      Item 1                    Item 2  confidence   support  \\\n",
            "28             (Large Lemon)                   (Limes)    0.264706  0.012336   \n",
            "29                   (Limes)             (Large Lemon)    0.263158  0.012336   \n",
            "37    (Organic Strawberries)     (Organic Raspberries)    0.154799  0.013706   \n",
            "36     (Organic Raspberries)    (Organic Strawberries)    0.320513  0.013706   \n",
            "21      (Organic Fuji Apple)                  (Banana)    0.450549  0.011239   \n",
            "20                  (Banana)      (Organic Fuji Apple)    0.077652  0.011239   \n",
            "4      (Organic Raspberries)  (Bag of Organic Bananas)    0.352564  0.015077   \n",
            "5   (Bag of Organic Bananas)     (Organic Raspberries)    0.131894  0.015077   \n",
            "30    (Organic Hass Avocado)    (Organic Baby Spinach)    0.204082  0.013706   \n",
            "31    (Organic Baby Spinach)    (Organic Hass Avocado)    0.185874  0.013706   \n",
            "11                  (Banana)          (Cucumber Kirby)    0.071970  0.010417   \n",
            "10          (Cucumber Kirby)                  (Banana)    0.361905  0.010417   \n",
            "3   (Bag of Organic Bananas)    (Organic Hass Avocado)    0.158273  0.018092   \n",
            "2     (Organic Hass Avocado)  (Bag of Organic Bananas)    0.269388  0.018092   \n",
            "35    (Organic Strawberries)    (Organic Hass Avocado)    0.151703  0.013432   \n",
            "34    (Organic Hass Avocado)    (Organic Strawberries)    0.200000  0.013432   \n",
            "27            (Strawberries)                  (Banana)    0.311688  0.013158   \n",
            "26                  (Banana)            (Strawberries)    0.090909  0.013158   \n",
            "16         (Organic Avocado)                  (Banana)    0.309859  0.018092   \n",
            "17                  (Banana)         (Organic Avocado)    0.125000  0.018092   \n",
            "33    (Organic Strawberries)    (Organic Baby Spinach)    0.148607  0.013158   \n",
            "32    (Organic Baby Spinach)    (Organic Strawberries)    0.178439  0.013158   \n",
            "7     (Organic Strawberries)  (Bag of Organic Bananas)    0.229102  0.020285   \n",
            "6   (Bag of Organic Bananas)    (Organic Strawberries)    0.177458  0.020285   \n",
            "9       (Organic Whole Milk)  (Bag of Organic Bananas)    0.220930  0.010417   \n",
            "8   (Bag of Organic Bananas)      (Organic Whole Milk)    0.091127  0.010417   \n",
            "1     (Organic Baby Spinach)  (Bag of Organic Bananas)    0.215613  0.015899   \n",
            "0   (Bag of Organic Bananas)    (Organic Baby Spinach)    0.139089  0.015899   \n",
            "14                  (Banana)                   (Limes)    0.085227  0.012336   \n",
            "15                   (Limes)                  (Banana)    0.263158  0.012336   \n",
            "13             (Large Lemon)                  (Banana)    0.252941  0.011787   \n",
            "12                  (Banana)             (Large Lemon)    0.081439  0.011787   \n",
            "18                  (Banana)    (Organic Baby Spinach)    0.109848  0.015899   \n",
            "19    (Organic Baby Spinach)                  (Banana)    0.215613  0.015899   \n",
            "25      (Organic Whole Milk)                  (Banana)    0.215116  0.010143   \n",
            "24                  (Banana)      (Organic Whole Milk)    0.070076  0.010143   \n",
            "22                  (Banana)    (Organic Strawberries)    0.128788  0.018640   \n",
            "23    (Organic Strawberries)                  (Banana)    0.210526  0.018640   \n",
            "\n",
            "        lift  \n",
            "28  5.647059  \n",
            "29  5.647059  \n",
            "37  3.619910  \n",
            "36  3.619910  \n",
            "21  3.112887  \n",
            "20  3.112887  \n",
            "4   3.084302  \n",
            "5   3.084302  \n",
            "30  2.767620  \n",
            "31  2.767620  \n",
            "11  2.500433  \n",
            "10  2.500433  \n",
            "3   2.356658  \n",
            "2   2.356658  \n",
            "35  2.258824  \n",
            "34  2.258824  \n",
            "27  2.153483  \n",
            "26  2.153483  \n",
            "16  2.140845  \n",
            "17  2.140845  \n",
            "33  2.015307  \n",
            "32  2.015307  \n",
            "7   2.004232  \n",
            "6   2.004232  \n",
            "9   1.932742  \n",
            "8   1.932742  \n",
            "1   1.886229  \n",
            "0   1.886229  \n",
            "14  1.818182  \n",
            "15  1.818182  \n",
            "13  1.747594  \n",
            "12  1.747594  \n",
            "18  1.489692  \n",
            "19  1.489692  \n",
            "25  1.486258  \n",
            "24  1.486258  \n",
            "22  1.454545  \n",
            "23  1.454545  \n"
          ]
        }
      ]
    },
    {
      "cell_type": "markdown",
      "source": [
        "#Business Recommendations based on association rules:\n",
        "\n",
        "\n",
        "Based on the association rules generated from the recommender system, here are two business recommendations that can help deliver positive outcomes:\n",
        "\n",
        "Cross-Promotion Strategy: Since there are several strong association rules between different products, one recommendation is to implement a cross-promotion strategy. For example:\n",
        "\n",
        "Item 1: Large Lemon\n",
        "Item 2: Limes\n",
        "Confidence: 0.26\n",
        "Support: 0.01\n",
        "Lift: 5.65\n",
        "Recommendation: Create cross-promotional offers or bundle deals to encourage customers to purchase Large Lemons and Limes together. This strategy can help increase the sales of both items, as customers who buy one item are more likely to buy the other.\n",
        "\n",
        "Targeted Marketing Campaign: Another recommendation is to leverage the association rules to develop a targeted marketing campaign. For instance:\n",
        "\n",
        "Item 1: Organic Strawberries\n",
        "Item 2: Organic Raspberries\n",
        "Confidence: 0.15\n",
        "Support: 0.01\n",
        "Lift: 3.62\n",
        "Recommendation: Identify customers who frequently purchase Organic Strawberries and target them with personalized promotions or discounts for Organic Raspberries. This targeted marketing campaign can encourage customers to explore complementary products and increase their overall basket size.\n",
        "\n",
        "By implementing these recommendations, businesses can capitalize on the association rules to optimize cross-selling opportunities, enhance customer satisfaction, and drive revenue growth."
      ],
      "metadata": {
        "id": "si2jlMhFMtSQ"
      }
    }
  ]
}